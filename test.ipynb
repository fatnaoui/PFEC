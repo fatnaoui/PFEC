{
 "cells": [
  {
   "cell_type": "code",
   "execution_count": 10,
   "metadata": {},
   "outputs": [],
   "source": [
    "import pandas as pd\n",
    "from sklearn.model_selection import train_test_split\n",
    "import torch\n",
    "from torch.nn.functional import one_hot"
   ]
  },
  {
   "cell_type": "code",
   "execution_count": 11,
   "metadata": {},
   "outputs": [
    {
     "data": {
      "text/html": [
       "<div>\n",
       "<style scoped>\n",
       "    .dataframe tbody tr th:only-of-type {\n",
       "        vertical-align: middle;\n",
       "    }\n",
       "\n",
       "    .dataframe tbody tr th {\n",
       "        vertical-align: top;\n",
       "    }\n",
       "\n",
       "    .dataframe thead th {\n",
       "        text-align: right;\n",
       "    }\n",
       "</style>\n",
       "<table border=\"1\" class=\"dataframe\">\n",
       "  <thead>\n",
       "    <tr style=\"text-align: right;\">\n",
       "      <th></th>\n",
       "      <th>MPG</th>\n",
       "      <th>Cylinders</th>\n",
       "      <th>Displacement</th>\n",
       "      <th>Horsepower</th>\n",
       "      <th>Weight</th>\n",
       "      <th>Acceleration</th>\n",
       "      <th>Model Year</th>\n",
       "      <th>Europe</th>\n",
       "      <th>Japan</th>\n",
       "    </tr>\n",
       "  </thead>\n",
       "  <tbody>\n",
       "    <tr>\n",
       "      <th>3</th>\n",
       "      <td>16.0</td>\n",
       "      <td>1.629454</td>\n",
       "      <td>1.192495</td>\n",
       "      <td>1.373011</td>\n",
       "      <td>0.629638</td>\n",
       "      <td>-1.470879</td>\n",
       "      <td>0.0</td>\n",
       "      <td>0.0</td>\n",
       "      <td>0.0</td>\n",
       "    </tr>\n",
       "    <tr>\n",
       "      <th>56</th>\n",
       "      <td>24.0</td>\n",
       "      <td>-0.779976</td>\n",
       "      <td>-0.748803</td>\n",
       "      <td>-0.226722</td>\n",
       "      <td>-0.812878</td>\n",
       "      <td>-0.048960</td>\n",
       "      <td>0.0</td>\n",
       "      <td>0.0</td>\n",
       "      <td>1.0</td>\n",
       "    </tr>\n",
       "    <tr>\n",
       "      <th>304</th>\n",
       "      <td>28.8</td>\n",
       "      <td>0.424739</td>\n",
       "      <td>-0.138971</td>\n",
       "      <td>0.354999</td>\n",
       "      <td>-0.416967</td>\n",
       "      <td>-1.755263</td>\n",
       "      <td>3.0</td>\n",
       "      <td>0.0</td>\n",
       "      <td>0.0</td>\n",
       "    </tr>\n",
       "    <tr>\n",
       "      <th>233</th>\n",
       "      <td>26.0</td>\n",
       "      <td>-0.779976</td>\n",
       "      <td>-0.911425</td>\n",
       "      <td>-0.808443</td>\n",
       "      <td>-0.829115</td>\n",
       "      <td>1.047949</td>\n",
       "      <td>2.0</td>\n",
       "      <td>0.0</td>\n",
       "      <td>1.0</td>\n",
       "    </tr>\n",
       "    <tr>\n",
       "      <th>51</th>\n",
       "      <td>30.0</td>\n",
       "      <td>-0.779976</td>\n",
       "      <td>-1.002900</td>\n",
       "      <td>-0.779357</td>\n",
       "      <td>-1.078901</td>\n",
       "      <td>-0.455222</td>\n",
       "      <td>0.0</td>\n",
       "      <td>1.0</td>\n",
       "      <td>0.0</td>\n",
       "    </tr>\n",
       "  </tbody>\n",
       "</table>\n",
       "</div>"
      ],
      "text/plain": [
       "      MPG  Cylinders  Displacement  Horsepower    Weight  Acceleration  \\\n",
       "3    16.0   1.629454      1.192495    1.373011  0.629638     -1.470879   \n",
       "56   24.0  -0.779976     -0.748803   -0.226722 -0.812878     -0.048960   \n",
       "304  28.8   0.424739     -0.138971    0.354999 -0.416967     -1.755263   \n",
       "233  26.0  -0.779976     -0.911425   -0.808443 -0.829115      1.047949   \n",
       "51   30.0  -0.779976     -1.002900   -0.779357 -1.078901     -0.455222   \n",
       "\n",
       "     Model Year  Europe  Japan  \n",
       "3           0.0     0.0    0.0  \n",
       "56          0.0     0.0    1.0  \n",
       "304         3.0     0.0    0.0  \n",
       "233         2.0     0.0    1.0  \n",
       "51          0.0     1.0    0.0  "
      ]
     },
     "execution_count": 11,
     "metadata": {},
     "output_type": "execute_result"
    }
   ],
   "source": [
    "url = 'http://archive.ics.uci.edu/ml/' \\\n",
    "      'machine-learning-databases/auto-mpg/auto-mpg.data'\n",
    "\n",
    "column_names = ['MPG', 'Cylinders', 'Displacement', 'Horsepower',\n",
    "        'Weight', 'Acceleration', 'Model Year', 'Origin']\n",
    "\n",
    "numerical_columns = ['Cylinders', 'Displacement', 'Horsepower',\n",
    "        'Weight', 'Acceleration']\n",
    "\n",
    "df = pd.read_csv(url,names=column_names, sep=' ', comment='\\t',na_values = \"?\",skipinitialspace=True)\n",
    "\n",
    "# Drop the NA rows\n",
    "df.dropna(inplace=True)\n",
    "df.reset_index(drop=True,inplace=True)    # assigning a new default integer index to the DataFrame\n",
    "\n",
    "# Convert The Model Year column\n",
    "boundries = torch.tensor([73,76,79])\n",
    "v = torch.tensor(df['Model Year'].values)\n",
    "df['Model Year'] = torch.bucketize(v,boundries,right=True)\n",
    "\n",
    "# One-Hot-Encoding for the 'Original' column\n",
    "origin_encoded = one_hot(torch.tensor((df['Origin']-1).values),num_classes=df['Origin'].nunique())[:,1:]\n",
    "data = torch.cat([torch.tensor(df.drop(columns='Origin').values),origin_encoded],dim=1)\n",
    "column_names_encoded = ['MPG', 'Cylinders', 'Displacement', 'Horsepower',\n",
    "        'Weight', 'Acceleration', 'Model Year', 'Europe','Japan']\n",
    "df = pd.DataFrame(data,columns=column_names_encoded)\n",
    "\n",
    "# Split our data\n",
    "df_train, df_test = train_test_split(df,test_size=0.8,random_state=123)\n",
    "\n",
    "# Sdandarize it\n",
    "for col in numerical_columns:\n",
    "    mean = df_train[col].mean()\n",
    "    std = df_train[col].std()\n",
    "    df_train[col] = (df_train[col] - mean) / std\n",
    "    df_test[col] = (df_test[col] - mean) / std\n",
    "\n",
    "df_train.head()"
   ]
  },
  {
   "cell_type": "code",
   "execution_count": 12,
   "metadata": {},
   "outputs": [
    {
     "data": {
      "text/plain": [
       "array([0., 1.])"
      ]
     },
     "execution_count": 12,
     "metadata": {},
     "output_type": "execute_result"
    }
   ],
   "source": [
    "df['Europe'].unique()"
   ]
  },
  {
   "cell_type": "code",
   "execution_count": null,
   "metadata": {},
   "outputs": [],
   "source": []
  },
  {
   "cell_type": "code",
   "execution_count": null,
   "metadata": {},
   "outputs": [],
   "source": []
  }
 ],
 "metadata": {
  "kernelspec": {
   "display_name": "PFEC",
   "language": "python",
   "name": "python3"
  },
  "language_info": {
   "codemirror_mode": {
    "name": "ipython",
    "version": 3
   },
   "file_extension": ".py",
   "mimetype": "text/x-python",
   "name": "python",
   "nbconvert_exporter": "python",
   "pygments_lexer": "ipython3",
   "version": "3.13.0"
  }
 },
 "nbformat": 4,
 "nbformat_minor": 2
}
