{
 "cells": [
  {
   "cell_type": "code",
   "execution_count": 5,
   "metadata": {},
   "outputs": [],
   "source": [
    "import pandas as pd\n",
    "from sklearn.model_selection import train_test_split\n",
    "import torch\n",
    "from torch.nn.functional import one_hot"
   ]
  },
  {
   "cell_type": "code",
   "execution_count": null,
   "metadata": {},
   "outputs": [
    {
     "data": {
      "text/html": [
       "<div>\n",
       "<style scoped>\n",
       "    .dataframe tbody tr th:only-of-type {\n",
       "        vertical-align: middle;\n",
       "    }\n",
       "\n",
       "    .dataframe tbody tr th {\n",
       "        vertical-align: top;\n",
       "    }\n",
       "\n",
       "    .dataframe thead th {\n",
       "        text-align: right;\n",
       "    }\n",
       "</style>\n",
       "<table border=\"1\" class=\"dataframe\">\n",
       "  <thead>\n",
       "    <tr style=\"text-align: right;\">\n",
       "      <th></th>\n",
       "      <th>MPG</th>\n",
       "      <th>Cylinders</th>\n",
       "      <th>Displacement</th>\n",
       "      <th>Horsepower</th>\n",
       "      <th>Weight</th>\n",
       "      <th>Acceleration</th>\n",
       "      <th>Model Year</th>\n",
       "      <th>Origin</th>\n",
       "    </tr>\n",
       "  </thead>\n",
       "  <tbody>\n",
       "    <tr>\n",
       "      <th>0</th>\n",
       "      <td>18.0</td>\n",
       "      <td>1.482053</td>\n",
       "      <td>1.075915</td>\n",
       "      <td>0.663285</td>\n",
       "      <td>0.619748</td>\n",
       "      <td>-1.283618</td>\n",
       "      <td>0</td>\n",
       "      <td>0</td>\n",
       "    </tr>\n",
       "    <tr>\n",
       "      <th>1</th>\n",
       "      <td>15.0</td>\n",
       "      <td>1.482053</td>\n",
       "      <td>1.486832</td>\n",
       "      <td>1.572585</td>\n",
       "      <td>0.842258</td>\n",
       "      <td>-1.464852</td>\n",
       "      <td>0</td>\n",
       "      <td>0</td>\n",
       "    </tr>\n",
       "    <tr>\n",
       "      <th>2</th>\n",
       "      <td>18.0</td>\n",
       "      <td>1.482053</td>\n",
       "      <td>1.181033</td>\n",
       "      <td>1.182885</td>\n",
       "      <td>0.539692</td>\n",
       "      <td>-1.646086</td>\n",
       "      <td>0</td>\n",
       "      <td>0</td>\n",
       "    </tr>\n",
       "    <tr>\n",
       "      <th>3</th>\n",
       "      <td>16.0</td>\n",
       "      <td>1.482053</td>\n",
       "      <td>1.047246</td>\n",
       "      <td>1.182885</td>\n",
       "      <td>0.536160</td>\n",
       "      <td>-1.283618</td>\n",
       "      <td>0</td>\n",
       "      <td>0</td>\n",
       "    </tr>\n",
       "    <tr>\n",
       "      <th>4</th>\n",
       "      <td>17.0</td>\n",
       "      <td>1.482053</td>\n",
       "      <td>1.028134</td>\n",
       "      <td>0.923085</td>\n",
       "      <td>0.554997</td>\n",
       "      <td>-1.827320</td>\n",
       "      <td>0</td>\n",
       "      <td>0</td>\n",
       "    </tr>\n",
       "  </tbody>\n",
       "</table>\n",
       "</div>"
      ],
      "text/plain": [
       "    MPG  Cylinders  Displacement  Horsepower    Weight  Acceleration  \\\n",
       "0  18.0   1.482053      1.075915    0.663285  0.619748     -1.283618   \n",
       "1  15.0   1.482053      1.486832    1.572585  0.842258     -1.464852   \n",
       "2  18.0   1.482053      1.181033    1.182885  0.539692     -1.646086   \n",
       "3  16.0   1.482053      1.047246    1.182885  0.536160     -1.283618   \n",
       "4  17.0   1.482053      1.028134    0.923085  0.554997     -1.827320   \n",
       "\n",
       "   Model Year  Origin  \n",
       "0           0       0  \n",
       "1           0       0  \n",
       "2           0       0  \n",
       "3           0       0  \n",
       "4           0       0  "
      ]
     },
     "execution_count": 6,
     "metadata": {},
     "output_type": "execute_result"
    }
   ],
   "source": [
    "url = 'http://archive.ics.uci.edu/ml/' \\\n",
    "      'machine-learning-databases/auto-mpg/auto-mpg.data'\n",
    "\n",
    "column_names = ['MPG', 'Cylinders', 'Displacement', 'Horsepower',\n",
    "        'Weight', 'Acceleration', 'Model Year', 'Origin']\n",
    "\n",
    "df = pd.read_csv(url,names=column_names, sep=' ', comment='\\t',na_values = \"?\",skipinitialspace=True)\n",
    "\n",
    "# Drop the NA rows\n",
    "df.dropna(inplace=True)\n",
    "df.reset_index(drop=True,inplace=True)    # assigning a new default integer index to the DataFrame\n",
    "\n",
    "# Normalizing our data\n",
    "numerical_columns = ['Cylinders','Displacement','Horsepower','Weight','Acceleration']\n",
    "for col in numerical_columns:\n",
    "    df[col] = (df[col] - df[col].mean()) / df[col].std()\n",
    "    \n",
    "# Map the value of the origin column to 0, 1, and 2\n",
    "def reset_fn(x):\n",
    "    return x-1\n",
    "df['Origin'] = df['Origin'].apply(reset_fn)\n",
    "\n",
    "# Deal with year cloumn\n",
    "boundries = torch.tensor([73,76,79])\n",
    "v = torch.tensor(df['Model Year'].values)\n",
    "df['Model Year'] = torch.bucketize(v,boundries,right=True) # right means strictly closed in the right x < 73 .....\n",
    "\n",
    "# encode the Origin column\n",
    "data = torch.cat([torch.tensor((df.drop(columns=['Origin'])).values),one_hot(torch.tensor(df['Origin'].values),num_classes=df['Origin'].nunique())[:,1:]],dim=1)\n",
    "data[:10]"
   ]
  },
  {
   "cell_type": "code",
   "execution_count": 10,
   "metadata": {},
   "outputs": [
    {
     "data": {
      "text/plain": [
       "tensor([[18.0000,  1.4821,  1.0759,  0.6633,  0.6197, -1.2836,  0.0000,  0.0000,\n",
       "          0.0000],\n",
       "        [15.0000,  1.4821,  1.4868,  1.5726,  0.8423, -1.4649,  0.0000,  0.0000,\n",
       "          0.0000],\n",
       "        [18.0000,  1.4821,  1.1810,  1.1829,  0.5397, -1.6461,  0.0000,  0.0000,\n",
       "          0.0000],\n",
       "        [16.0000,  1.4821,  1.0472,  1.1829,  0.5362, -1.2836,  0.0000,  0.0000,\n",
       "          0.0000],\n",
       "        [17.0000,  1.4821,  1.0281,  0.9231,  0.5550, -1.8273,  0.0000,  0.0000,\n",
       "          0.0000],\n",
       "        [15.0000,  1.4821,  2.2418,  2.4299,  1.6051, -2.0086,  0.0000,  0.0000,\n",
       "          0.0000],\n",
       "        [14.0000,  1.4821,  2.4807,  3.0015,  1.6205, -2.3710,  0.0000,  0.0000,\n",
       "          0.0000],\n",
       "        [14.0000,  1.4821,  2.3469,  2.8716,  1.5710, -2.5523,  0.0000,  0.0000,\n",
       "          0.0000],\n",
       "        [14.0000,  1.4821,  2.4902,  3.1314,  1.7040, -2.0086,  0.0000,  0.0000,\n",
       "          0.0000],\n",
       "        [15.0000,  1.4821,  1.8691,  2.2221,  1.0271, -2.5523,  0.0000,  0.0000,\n",
       "          0.0000]], dtype=torch.float64)"
      ]
     },
     "execution_count": 10,
     "metadata": {},
     "output_type": "execute_result"
    }
   ],
   "source": [
    "data = torch.cat([torch.tensor((df.drop(columns=['Origin'])).values),one_hot(torch.tensor(df['Origin'].values),num_classes=df['Origin'].nunique())[:,1:]],dim=1)\n",
    "data[:10]"
   ]
  },
  {
   "cell_type": "markdown",
   "metadata": {},
   "source": []
  },
  {
   "cell_type": "code",
   "execution_count": null,
   "metadata": {},
   "outputs": [],
   "source": []
  },
  {
   "cell_type": "code",
   "execution_count": null,
   "metadata": {},
   "outputs": [],
   "source": []
  },
  {
   "cell_type": "code",
   "execution_count": null,
   "metadata": {},
   "outputs": [],
   "source": []
  },
  {
   "cell_type": "code",
   "execution_count": null,
   "metadata": {},
   "outputs": [],
   "source": []
  },
  {
   "cell_type": "code",
   "execution_count": null,
   "metadata": {},
   "outputs": [],
   "source": []
  },
  {
   "cell_type": "code",
   "execution_count": null,
   "metadata": {},
   "outputs": [],
   "source": []
  }
 ],
 "metadata": {
  "kernelspec": {
   "display_name": "PFEC",
   "language": "python",
   "name": "python3"
  },
  "language_info": {
   "codemirror_mode": {
    "name": "ipython",
    "version": 3
   },
   "file_extension": ".py",
   "mimetype": "text/x-python",
   "name": "python",
   "nbconvert_exporter": "python",
   "pygments_lexer": "ipython3",
   "version": "3.13.0"
  }
 },
 "nbformat": 4,
 "nbformat_minor": 2
}
